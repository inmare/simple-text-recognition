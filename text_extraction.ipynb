{
 "cells": [
  {
   "cell_type": "markdown",
   "metadata": {},
   "source": [
    "모듈 추가하기"
   ]
  },
  {
   "cell_type": "code",
   "execution_count": 3,
   "metadata": {},
   "outputs": [],
   "source": [
    "import yaml\n",
    "import graph\n",
    "import debug\n",
    "import numpy as np\n",
    "from time import time\n",
    "import image_data as data\n",
    "import image_cropping as crop\n",
    "import image_processing as process\n",
    "from text_generation import make_random_text\n",
    "# 모듈 자동 리로드하기\n",
    "%load_ext autoreload\n",
    "%autoreload 2\n"
   ]
  },
  {
   "cell_type": "markdown",
   "metadata": {},
   "source": [
    "yaml파일 정보 가져오기\n"
   ]
  },
  {
   "cell_type": "code",
   "execution_count": 4,
   "metadata": {},
   "outputs": [],
   "source": [
    "with open(\"./settings.yml\", encoding=\"utf-8\") as file:\n",
    "    settings = yaml.load(file, Loader=yaml.FullLoader)\n"
   ]
  },
  {
   "cell_type": "markdown",
   "metadata": {},
   "source": [
    "랜덤한 텍스트 생성하기\n"
   ]
  },
  {
   "cell_type": "code",
   "execution_count": 5,
   "metadata": {},
   "outputs": [
    {
     "name": "stdout",
     "output_type": "stream",
     "text": [
      "elapsed time:0m 0.1s\n"
     ]
    }
   ],
   "source": [
    "start_time = time()\n",
    "\n",
    "text_generation_info = settings[\"textGeneration\"]\n",
    "\n",
    "seed = text_generation_info[\"seed\"]\n",
    "text_h_len = text_generation_info[\"textHLen\"]\n",
    "text_v_len = text_generation_info[\"textVLen\"]\n",
    "page_len = text_generation_info[\"pageLen\"]\n",
    "mode = text_generation_info[\"mode\"]\n",
    "text_len = text_h_len * text_v_len * page_len\n",
    "\n",
    "random_text = make_random_text(seed, text_len, mode)\n",
    "\n",
    "debug.show_elapsed_time(start_time)\n"
   ]
  },
  {
   "cell_type": "markdown",
   "metadata": {},
   "source": [
    "이미지 파일 읽어오기 및 텍스트박스 추출\n"
   ]
  },
  {
   "cell_type": "code",
   "execution_count": 6,
   "metadata": {},
   "outputs": [
    {
     "name": "stdout",
     "output_type": "stream",
     "text": [
      "Extracting textbox finished\n",
      "elapsed time:0m 11.1s\n"
     ]
    }
   ],
   "source": [
    "start_time = time()\n",
    "\n",
    "image_info = settings[\"image\"]\n",
    "image_path = image_info[\"imagePath\"]\n",
    "image_perfix = image_info[\"imagePrefix\"]\n",
    "start_page = image_info[\"startPage\"]\n",
    "end_page = image_info[\"endPage\"]\n",
    "\n",
    "image_file_paths = []\n",
    "for i in range(start_page, end_page + 1):\n",
    "    image_file_path = image_path + image_perfix + str(i) + \".jpg\"\n",
    "    image_file_paths.append(image_file_path)\n",
    "\n",
    "textbox_info = settings[\"textbox\"]\n",
    "denoise_info = settings[\"imageDenoise\"]\n",
    "textbox_images = []\n",
    "\n",
    "for image_file_path in image_file_paths:\n",
    "    textbox_image = crop.textbox_from_image(\n",
    "        image_file_path, textbox_info, denoise_info)\n",
    "    textbox_images.append(textbox_image)\n",
    "\n",
    "print(\"Extracting textbox finished\")\n",
    "debug.show_elapsed_time(start_time)\n",
    "\n",
    "# textbox_graph = textbox_images[0][:400, :400]\n",
    "# graph.show_image(textbox_graph, (10, 10))\n"
   ]
  },
  {
   "cell_type": "markdown",
   "metadata": {},
   "source": [
    "텍스트박스에서 줄 추출\n"
   ]
  },
  {
   "cell_type": "code",
   "execution_count": 7,
   "metadata": {},
   "outputs": [
    {
     "name": "stdout",
     "output_type": "stream",
     "text": [
      "page 1 finished, line 173 generated\n",
      "Extracting line images finished\n",
      "elapsed time:0m 6.6s\n"
     ]
    }
   ],
   "source": [
    "start_time = time()\n",
    "\n",
    "line_info = settings[\"line\"]\n",
    "line_footprint = np.ones(tuple(line_info[\"footprint\"]))\n",
    "line_thresh = line_info[\"lineThresh\"]\n",
    "line_images = []\n",
    "line_avg_height = 0\n",
    "page_cnt = 1\n",
    "line_cnt = 1\n",
    "\n",
    "for textbox_image in textbox_images:\n",
    "    line_contours = data.get_line_contour_from_image(\n",
    "        textbox_image, line_footprint, line_thresh)\n",
    "\n",
    "    for line_contour in line_contours:\n",
    "        line_image = crop.line_from_textbox(textbox_image, line_contour)\n",
    "        line_avg_height += line_image.shape[0]\n",
    "        line_images.append(line_image)\n",
    "        # TODO debug 모듈에 오류감지함수 추가하기\n",
    "        line_cnt += 1\n",
    "\n",
    "    print(f\"page {page_cnt} finished, line {line_cnt - 1} generated\")\n",
    "    page_cnt += 1\n",
    "    line_cnt = 1\n",
    "\n",
    "line_avg_height = int(line_avg_height / len(line_images))\n",
    "\n",
    "print(\"Extracting line images finished\")\n",
    "debug.show_elapsed_time(start_time)\n"
   ]
  },
  {
   "cell_type": "markdown",
   "metadata": {},
   "source": [
    "줄 이미지 디버깅용 코드"
   ]
  },
  {
   "cell_type": "code",
   "execution_count": 7,
   "metadata": {},
   "outputs": [
    {
     "name": "stdout",
     "output_type": "stream",
     "text": [
      "3 (19, 2273)\n"
     ]
    },
    {
     "data": {
      "image/png": "[encoded data removed]",
      "text/plain": [
       "<Figure size 1440x1440 with 1 Axes>"
      ]
     },
     "metadata": {
      "needs_background": "light"
     },
     "output_type": "display_data"
    },
    {
     "data": {
      "image/png": "[encoded data removed]",
      "text/plain": [
       "<Figure size 1440x1440 with 1 Axes>"
      ]
     },
     "metadata": {
      "needs_background": "light"
     },
     "output_type": "display_data"
    }
   ],
   "source": [
    "line_info = settings[\"line\"]\n",
    "line_footprint = np.ones(tuple(line_info[\"footprint\"]))\n",
    "\n",
    "for i in range(len(line_images)):\n",
    "    # if line_images[i].shape[1] < 2200 or line_images[i].shape[0] > 25:\n",
    "    if i+1 == 3:\n",
    "        print(i+1, line_images[i].shape)\n",
    "        graph.show_image(line_images[i], (20, 20))\n",
    "        d_img = process.make_dilated_image(\n",
    "            line_images[i], line_footprint, thresh_correction=-0.3)\n",
    "        graph.show_image(d_img, (20, 20))\n"
   ]
  },
  {
   "cell_type": "code",
   "execution_count": 8,
   "metadata": {},
   "outputs": [
    {
     "data": {
      "text/plain": [
       "[array([[1., 1., 1., ..., 1., 1., 1.],\n",
       "        [1., 1., 1., ..., 1., 1., 1.],\n",
       "        [1., 1., 1., ..., 1., 1., 1.],\n",
       "        ...,\n",
       "        [1., 1., 1., ..., 1., 1., 1.],\n",
       "        [1., 1., 1., ..., 1., 1., 1.],\n",
       "        [1., 1., 1., ..., 1., 1., 1.]])]"
      ]
     },
     "execution_count": 8,
     "metadata": {},
     "output_type": "execute_result"
    }
   ],
   "source": [
    "line_images = line_images[91:92]\n",
    "line_images"
   ]
  },
  {
   "cell_type": "markdown",
   "metadata": {},
   "source": [
    "줄에서 글자의 간격에 대한 정보 추출"
   ]
  },
  {
   "cell_type": "code",
   "execution_count": 9,
   "metadata": {},
   "outputs": [
    {
     "name": "stdout",
     "output_type": "stream",
     "text": [
      "Extracting gap data finished\n",
      "elapsed time:0m 0.0s\n"
     ]
    }
   ],
   "source": [
    "start_time = time()\n",
    "\n",
    "char_info = settings[\"char\"]\n",
    "# 현재는 Ubuntu Mono R을 쓰고 있기에 footprint의 값으로 (1,2)를 해둠\n",
    "# 조금 더 세로가 두꺼우면 get_gaps_data함수의 오류를 방지하는데 도움이 될 것 같아서임\n",
    "# 만약 Ubuntu Mono B를 사용한다면 상황에 따라 dilation대신 binarization 사용\n",
    "char_footprint = np.ones(tuple(char_info[\"footprint\"]))\n",
    "outlier_range = settings[\"gapOutlierRange\"]\n",
    "line_gaps_width, line_x_coords = data.get_gaps_data(\n",
    "    line_images, char_footprint)\n",
    "\n",
    "min_max_gaps, max_width = data.get_gaps_width(line_gaps_width, outlier_range)\n",
    "\n",
    "print(\"Extracting gap data finished\")\n",
    "debug.show_elapsed_time(start_time)"
   ]
  },
  {
   "cell_type": "markdown",
   "metadata": {},
   "source": [
    "줄에서 글자 추출"
   ]
  },
  {
   "cell_type": "code",
   "execution_count": 14,
   "metadata": {},
   "outputs": [
    {
     "data": {
      "image/png": "[encoded data removed]",
      "text/plain": [
       "<Figure size 72x72 with 1 Axes>"
      ]
     },
     "metadata": {
      "needs_background": "light"
     },
     "output_type": "display_data"
    },
    {
     "name": "stdout",
     "output_type": "stream",
     "text": [
      "line 1 took: 0m0.2s expected:220 actual:220\n"
     ]
    }
   ],
   "source": [
    "start_time = time()\n",
    "\n",
    "char_image_len = line_avg_height * (max_width + 1)\n",
    "char_data_array_len = char_image_len + max_width + line_avg_height + 1\n",
    "\n",
    "chars_thresh = char_info[\"charsThresh\"]\n",
    "skeleton_thresh = char_info[\"skeletonThresh\"]\n",
    "char_size_dict = {\n",
    "    \"char_w\": max_width + 1,\n",
    "    \"char_h\": line_avg_height,\n",
    "    \"data_len\": char_data_array_len\n",
    "}\n",
    "\n",
    "line_cnt = 0\n",
    "char_cnt = 0\n",
    "\n",
    "char_data_array = np.zeros(\n",
    "    (len(line_images) * text_h_len, char_data_array_len))\n",
    "\n",
    "for line_idx, line_image in enumerate(line_images):\n",
    "    gaps_width = line_gaps_width[line_idx]\n",
    "    x_coords = line_x_coords[line_idx]\n",
    "    min_max_gap = min_max_gaps[line_idx]\n",
    "\n",
    "    line_start_time = time()\n",
    "\n",
    "    for gap_idx, gap_width in enumerate(gaps_width):\n",
    "        x_start, x_end = x_coords[gap_idx], x_coords[gap_idx + 1]\n",
    "\n",
    "        if gap_width > min_max_gap[1]:  # gap_width > max_gap_width\n",
    "            chars_image = line_image[:, x_start:x_end]\n",
    "            # b_img1 = process.make_binary_image(chars_image, chars_thresh)\n",
    "            # b_img2 = process.make_binary_image(chars_image, skeleton_thresh)\n",
    "            # graph.show_image(chars_image, (1, 1))\n",
    "            # graph.show_image(b_img1, (1, 1))\n",
    "            # graph.show_image(b_img2, (1, 1))\n",
    "            if char_cnt > 215:\n",
    "                graph.show_image(chars_image, (1, 1))\n",
    "            \n",
    "            seperated_chars = crop.char_from_chars(\n",
    "                chars_image, chars_thresh, min_max_gap)\n",
    "            # graph.show_image(char_image, (1, 1))\n",
    "\n",
    "            for char_image in seperated_chars:\n",
    "                try:\n",
    "                    centered_char_image = process.move_char_image_to_center(\n",
    "                        char_image, skeleton_thresh, char_size_dict, char_cnt)\n",
    "                except Exception as e:\n",
    "                    print(e)\n",
    "                    print(line_cnt, char_cnt)\n",
    "                    b_img = process.make_binary_image(\n",
    "                        char_image, thresh_correction=skeleton_thresh)\n",
    "                    graph.show_char(char_image, b_img)\n",
    "                    continue\n",
    "                # graph.show_image(char_image, (1, 1))\n",
    "                char_data = data.add_stack_value_to_image(centered_char_image)\n",
    "                char_data_array[char_cnt:] = char_data\n",
    "                char_cnt += 1\n",
    "        else:\n",
    "            char_image = line_image[:, x_start:x_end]\n",
    "            # char_image = process.move_char_image_to_center(\n",
    "            #     char_image, skeleton_thresh, char_size_dict)\n",
    "            try:\n",
    "                centered_char_image = process.move_char_image_to_center(\n",
    "                    char_image, skeleton_thresh, char_size_dict, char_cnt)\n",
    "            except Exception as e:\n",
    "                print(e)\n",
    "                print(line_cnt, char_cnt)\n",
    "                b_img = process.make_binary_image(\n",
    "                    char_image, thresh_correction=skeleton_thresh)\n",
    "                graph.show_char(char_image, b_img)\n",
    "                continue\n",
    "            # return 1\n",
    "            char_data = data.add_stack_value_to_image(centered_char_image)\n",
    "            char_data_array[char_cnt, :] = char_data\n",
    "            char_cnt += 1\n",
    "    debug.show_elapsed_time_per_line(\n",
    "        start_time, line_start_time, line_cnt + 1, char_cnt, text_h_len)\n",
    "    # TODO 글자들의 개수에 따라 이상을 감지하는 함수 추가하기\n",
    "    # 정상적인 글자들의 데이터를 모은 뒤 어떤 글자들과도 일정 수준 일치하지 않으면 에러를 반환하는\n",
    "    # 함수를 만들수도 있음\n",
    "    line_cnt += 1\n"
   ]
  },
  {
   "cell_type": "code",
   "execution_count": null,
   "metadata": {},
   "outputs": [],
   "source": [
    "npz_path = \"./data/ascii-data\"\n",
    "# np.savez_compressed(npz_path, train_data=char_data_array, label_data=random_text)\n",
    "\n",
    "end_time = time.time()\n",
    "elapsed_time = end_time - start_time\n",
    "elapsed_min = int(elapsed_time // 60)\n",
    "elapsed_sec = round((elapsed_time % 60) * 10) / 10\n",
    "\n",
    "print(\n",
    "    f\"image shape: {char_data_array.shape}\\nelapsed time:{elapsed_min}m{elapsed_sec}s\")\n"
   ]
  }
 ],
 "metadata": {
  "interpreter": {
   "hash": "06eaa419cabe888968b032de5043dc9cd4cddb3fe69ffe23112c895ef0be9a88"
  },
  "kernelspec": {
   "display_name": "Python 3.7.4 ('venv': venv)",
   "language": "python",
   "name": "python3"
  },
  "language_info": {
   "codemirror_mode": {
    "name": "ipython",
    "version": 3
   },
   "file_extension": ".py",
   "mimetype": "text/x-python",
   "name": "python",
   "nbconvert_exporter": "python",
   "pygments_lexer": "ipython3",
   "version": "3.7.4"
  },
  "orig_nbformat": 4
 },
 "nbformat": 4,
 "nbformat_minor": 2
}
